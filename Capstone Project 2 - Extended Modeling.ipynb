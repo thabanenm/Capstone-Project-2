{
 "cells": [
  {
   "cell_type": "markdown",
   "metadata": {},
   "source": [
    "# Extended modeling for NBA Dataset"
   ]
  },
  {
   "cell_type": "markdown",
   "metadata": {},
   "source": [
    "In the extended modeling section we will evaluate how the Random Forest Regression model compared to the Linear Regression Models. We will evaluate the differences in r-squared, MAPE, RMSE between the a parameter-tuned Random Forest Regression model and the Linear Regression model ran in the previous section. "
   ]
  },
  {
   "cell_type": "markdown",
   "metadata": {},
   "source": [
    "#### Import necessary functions and packages"
   ]
  },
  {
   "cell_type": "code",
   "execution_count": 1,
   "metadata": {},
   "outputs": [],
   "source": [
    "import pandas as pd \n",
    "import numpy as np\n",
    "import statsmodels.api as sm\n",
    "import matplotlib.pyplot as plt\n",
    "import seaborn as sns\n",
    "import statsmodels.api as sm\n",
    "from sklearn.linear_model import LinearRegression\n",
    "from scipy import stats\n",
    "from random import sample\n",
    "from sklearn.metrics import mean_squared_error\n",
    "from sklearn.metrics import r2_score\n",
    "games = pd.read_csv('C:/Users/michael.thabane/Documents/Springboard/Capstone2/nba-games/games.csv')\n",
    "games_details = pd.read_csv('C:/Users/michael.thabane/Documents/Springboard/Capstone2/nba-games/games_details.csv')\n",
    "players = pd.read_csv('C:/Users/michael.thabane/Documents/Springboard/Capstone2/nba-games/players.csv')\n",
    "standings = pd.read_csv('C:/Users/michael.thabane/Documents/Springboard/Capstone2/nba-games/ranking.csv')"
   ]
  },
  {
   "cell_type": "code",
   "execution_count": 2,
   "metadata": {},
   "outputs": [],
   "source": [
    "from sklearn.ensemble import RandomForestRegressor\n",
    "from xgboost import XGBRegressor\n",
    "from sklearn.model_selection import train_test_split\n",
    "from sklearn.model_selection import cross_val_score\n",
    "from sklearn.model_selection import GridSearchCV"
   ]
  },
  {
   "cell_type": "code",
   "execution_count": 3,
   "metadata": {},
   "outputs": [],
   "source": [
    "def mean_absolute_percentage_error(y_true, y_pred): \n",
    "    y_true, y_pred = np.array(y_true), np.array(y_pred)\n",
    "    return np.mean(np.abs((y_true - y_pred) / y_true)) * 100"
   ]
  },
  {
   "cell_type": "markdown",
   "metadata": {},
   "source": [
    "#### importing the data set from the data wrangling notebook"
   ]
  },
  {
   "cell_type": "code",
   "execution_count": 4,
   "metadata": {},
   "outputs": [],
   "source": [
    "final_boxscore = pd.read_csv('C:/Users/michael.thabane/Documents/Springboard/Capstone2/final_boxscore.csv')"
   ]
  },
  {
   "cell_type": "code",
   "execution_count": 5,
   "metadata": {},
   "outputs": [],
   "source": [
    "def mean_absolute_percentage_error(y_true, y_pred): \n",
    "    y_true, y_pred = np.array(y_true), np.array(y_pred)\n",
    "    return np.mean(np.abs((y_true - y_pred) / y_true)) * 100"
   ]
  },
  {
   "cell_type": "markdown",
   "metadata": {},
   "source": [
    "#### Isolating Lebron James career statistics"
   ]
  },
  {
   "cell_type": "code",
   "execution_count": 6,
   "metadata": {},
   "outputs": [],
   "source": [
    "lebron_stats = final_boxscore.loc[final_boxscore['PLAYER_ID'] == 2544]\n",
    "lebron_train2 = lebron_stats.iloc[91:]\n",
    "lebron_test2 = lebron_stats.iloc[61:91]\n",
    "lebron_train2_drop = lebron_train2.dropna()\n",
    "y_train = lebron_train2_drop['PTS']\n",
    "X_train = lebron_train2_drop[['PTSL5','PTSL3','MINL5','FGML5','FGAL5','FG_PCTL5','FG3ML5','FG3AL5','FG3_PCTL5','FTML5',\n",
    "                       'FTAL5','FT_PCTL5','STLL5','PLUS_MINUSL5','TOT_PTSL5','DAYSOFF','YEAR']]\n",
    "lebron_model_test2_drop = lebron_test2.dropna()\n",
    "lebron_model_test2_drop = lebron_model_test2_drop[['PTSL5','PTSL3','MINL5','FGML5','FGAL5','FG_PCTL5','FG3ML5','FG3AL5',\n",
    "                                                   'FG3_PCTL5','FTML5','FTAL5','FT_PCTL5','STLL5','PLUS_MINUSL5',\n",
    "                                                   'TOT_PTSL5','DAYSOFF','YEAR']]"
   ]
  },
  {
   "cell_type": "markdown",
   "metadata": {},
   "source": [
    "#### Fitting the model to the default parameter random forest regressor"
   ]
  },
  {
   "cell_type": "markdown",
   "metadata": {},
   "source": [
    "First we will run the model using the default parameters for the Random Forrest Regressor. The important parameter values in the default regressor:\n",
    "\n",
    "- n estimators = 10  \n",
    "- max depth = None\n",
    "- min samples split = 2\n",
    "- min samples leaf = 1"
   ]
  },
  {
   "cell_type": "code",
   "execution_count": 7,
   "metadata": {},
   "outputs": [
    {
     "name": "stderr",
     "output_type": "stream",
     "text": [
      "C:\\Users\\michael.thabane\\AppData\\Local\\Continuum\\anaconda3\\lib\\site-packages\\sklearn\\ensemble\\forest.py:245: FutureWarning: The default value of n_estimators will change from 10 in version 0.20 to 100 in 0.22.\n",
      "  \"10 in version 0.20 to 100 in 0.22.\", FutureWarning)\n"
     ]
    },
    {
     "data": {
      "text/plain": [
       "RandomForestRegressor(bootstrap=True, criterion='mse', max_depth=None,\n",
       "                      max_features='auto', max_leaf_nodes=None,\n",
       "                      min_impurity_decrease=0.0, min_impurity_split=None,\n",
       "                      min_samples_leaf=1, min_samples_split=2,\n",
       "                      min_weight_fraction_leaf=0.0, n_estimators=10,\n",
       "                      n_jobs=None, oob_score=False, random_state=None,\n",
       "                      verbose=0, warm_start=False)"
      ]
     },
     "execution_count": 7,
     "metadata": {},
     "output_type": "execute_result"
    }
   ],
   "source": [
    "randomforest = RandomForestRegressor()\n",
    "randomforest.fit(X_train,y_train)"
   ]
  },
  {
   "cell_type": "code",
   "execution_count": 8,
   "metadata": {},
   "outputs": [],
   "source": [
    "act = lebron_test2.dropna()\n",
    "y_actual = act['PTS']\n",
    "y_pred = randomforest.predict(lebron_model_test2_drop)"
   ]
  },
  {
   "cell_type": "code",
   "execution_count": 9,
   "metadata": {},
   "outputs": [
    {
     "name": "stdout",
     "output_type": "stream",
     "text": [
      " RMSE = 6.243823614847983 \n",
      " r squared =  -0.07995937086398475 \n",
      " MAPE =  21.045833502218215\n"
     ]
    }
   ],
   "source": [
    "RMSE = np.sqrt(mean_squared_error(y_actual,y_pred))\n",
    "r2 = r2_score(y_actual,y_pred)\n",
    "MAPE = mean_absolute_percentage_error(y_actual,y_pred)\n",
    "print(' RMSE =', RMSE,'\\n','r squared = ', r2,'\\n','MAPE = ', MAPE)"
   ]
  },
  {
   "cell_type": "markdown",
   "metadata": {},
   "source": [
    "R-squared value is negative meaning the default model actually performs worse than using the points avg as a predictor. Also RMSE is about 0.7 higher than the baseline regression model. MAPE is 3 percent higher than the baseline regression model so clearly from this we know that the parameters need to be tuned before comparing the results to the baseline regression model."
   ]
  },
  {
   "cell_type": "markdown",
   "metadata": {},
   "source": [
    "#### Parameter tuning the Random Forest Regressor for find the optimal parameters for the best performance"
   ]
  },
  {
   "cell_type": "code",
   "execution_count": 10,
   "metadata": {},
   "outputs": [
    {
     "name": "stderr",
     "output_type": "stream",
     "text": [
      "C:\\Users\\michael.thabane\\AppData\\Local\\Continuum\\anaconda3\\lib\\site-packages\\sklearn\\model_selection\\_split.py:1978: FutureWarning: The default value of cv will change from 3 to 5 in version 0.22. Specify it explicitly to silence this warning.\n",
      "  warnings.warn(CV_WARNING, FutureWarning)\n"
     ]
    },
    {
     "name": "stdout",
     "output_type": "stream",
     "text": [
      "Best n estimator:  700\n",
      "Best max depth:  5\n",
      "Best min sample split:  7\n",
      "Best min sample leaf:  11\n",
      "Best Score:  0.009297907545078237\n"
     ]
    }
   ],
   "source": [
    "param_grid_RF = {'n_estimators': np.arange(100,1000,100), 'max_depth': np.arange(1,20,4), \n",
    "                 'min_samples_split': np.arange(2,21,5), 'min_samples_leaf': np.arange(1,15,2)}\n",
    "RF_tune = GridSearchCV(randomforest,param_grid_RF)\n",
    "RF_tune.fit(X_train,y_train)\n",
    "print('Best n estimator: ', RF_tune.best_params_['n_estimators'])\n",
    "print('Best max depth: ', RF_tune.best_params_['max_depth'])\n",
    "print('Best min sample split: ', RF_tune.best_params_['min_samples_split'])\n",
    "print('Best min sample leaf: ', RF_tune.best_params_['min_samples_leaf'])\n",
    "print('Best Score: ', RF_tune.best_score_)"
   ]
  },
  {
   "cell_type": "code",
   "execution_count": 11,
   "metadata": {},
   "outputs": [
    {
     "data": {
      "text/plain": [
       "RandomForestRegressor(bootstrap=True, criterion='mse', max_depth=5,\n",
       "                      max_features='auto', max_leaf_nodes=None,\n",
       "                      min_impurity_decrease=0.0, min_impurity_split=None,\n",
       "                      min_samples_leaf=11, min_samples_split=7,\n",
       "                      min_weight_fraction_leaf=0.0, n_estimators=700,\n",
       "                      n_jobs=None, oob_score=False, random_state=None,\n",
       "                      verbose=0, warm_start=False)"
      ]
     },
     "execution_count": 11,
     "metadata": {},
     "output_type": "execute_result"
    }
   ],
   "source": [
    "best_RF = RandomForestRegressor(n_estimators=RF_tune.best_params_['n_estimators'],\n",
    "                                max_depth=RF_tune.best_params_['max_depth'],\n",
    "                                min_samples_split=RF_tune.best_params_['min_samples_split'],\n",
    "                                min_samples_leaf=RF_tune.best_params_['min_samples_leaf'])\n",
    "best_RF.fit(X_train,y_train)"
   ]
  },
  {
   "cell_type": "code",
   "execution_count": 12,
   "metadata": {},
   "outputs": [],
   "source": [
    "y_pred_best = best_RF.predict(lebron_model_test2_drop)"
   ]
  },
  {
   "cell_type": "code",
   "execution_count": 13,
   "metadata": {},
   "outputs": [
    {
     "name": "stdout",
     "output_type": "stream",
     "text": [
      " RMSE = 6.069103756861786 \n",
      " r squared =  -0.02036438087963477 \n",
      " MAPE =  19.875482182850945\n"
     ]
    }
   ],
   "source": [
    "RMSE_1 = np.sqrt(mean_squared_error(y_actual,y_pred_best))\n",
    "r2_1 = r2_score(y_actual,y_pred_best)\n",
    "MAPE_1 = mean_absolute_percentage_error(y_actual,y_pred_best)\n",
    "print(' RMSE =', RMSE_1,'\\n','r squared = ', r2_1,'\\n','MAPE = ', MAPE_1)"
   ]
  },
  {
   "cell_type": "markdown",
   "metadata": {},
   "source": [
    "The parameter tuned Random Forest Regressor model on Lebron's data performs with a negative r-square value which is slightly close to 0; meaning that the model performs similar but worse to using the total points average as a predictor. When comparing this tuned model to the baseline model with the same training and test set (lebron last 30 games of 2018) we notice that Random Forrest Regressor performs similar but worse than the Linear Regession model and all three metrics (RMSE, r-squared, MAPE) almost equivalent. Below we will examine the difference between the actual and predicted values of the model.  "
   ]
  },
  {
   "cell_type": "code",
   "execution_count": 14,
   "metadata": {},
   "outputs": [
    {
     "data": {
      "image/png": "[encoded data removed]",
      "text/plain": [
       "<Figure size 432x288 with 1 Axes>"
      ]
     },
     "metadata": {
      "needs_background": "light"
     },
     "output_type": "display_data"
    }
   ],
   "source": [
    "plt.scatter(y_actual,y_pred_best)\n",
    "plt.plot([y_actual.min(), y_actual.max()], [y_actual.min(), y_actual.max()], 'k--', lw=4)\n",
    "plt.xlabel('Actual')\n",
    "plt.ylabel('Predicted')\n",
    "plt.title(\"Lebron James' last 30 games of 2018 season Predicted vs Actual\")\n",
    "plt.show()"
   ]
  },
  {
   "cell_type": "code",
   "execution_count": 15,
   "metadata": {},
   "outputs": [
    {
     "data": {
      "image/png": "[encoded data removed]",
      "text/plain": [
       "<Figure size 432x288 with 1 Axes>"
      ]
     },
     "metadata": {
      "needs_background": "light"
     },
     "output_type": "display_data"
    }
   ],
   "source": [
    "residuals = y_actual - y_pred_best\n",
    "plt.title(\"Histogram of Residuals for Lebron James' last 30 games of 2018 season\")\n",
    "plt.hist(residuals, bins=15)\n",
    "plt.show()"
   ]
  },
  {
   "cell_type": "markdown",
   "metadata": {},
   "source": [
    "Excluding the two outlier predictions we know that most of the predictions will fall within 8-10 points of the predicted value. Therefore when making props picks for any players who's player props is not in the prediction range of 95% we can make a confident decision whether that player will go over or under for points scored."
   ]
  },
  {
   "cell_type": "markdown",
   "metadata": {},
   "source": [
    "#### Fitting the model to the default parameters of XGBoost algorithm"
   ]
  },
  {
   "cell_type": "code",
   "execution_count": 16,
   "metadata": {},
   "outputs": [
    {
     "name": "stdout",
     "output_type": "stream",
     "text": [
      "[16:13:29] WARNING: src/objective/regression_obj.cu:152: reg:linear is now deprecated in favor of reg:squarederror.\n"
     ]
    },
    {
     "name": "stderr",
     "output_type": "stream",
     "text": [
      "C:\\Users\\michael.thabane\\AppData\\Local\\Continuum\\anaconda3\\lib\\site-packages\\xgboost\\core.py:587: FutureWarning: Series.base is deprecated and will be removed in a future version\n",
      "  if getattr(data, 'base', None) is not None and \\\n",
      "C:\\Users\\michael.thabane\\AppData\\Local\\Continuum\\anaconda3\\lib\\site-packages\\xgboost\\core.py:588: FutureWarning: Series.base is deprecated and will be removed in a future version\n",
      "  data.base is not None and isinstance(data, np.ndarray) \\\n"
     ]
    },
    {
     "data": {
      "text/plain": [
       "XGBRegressor(base_score=0.5, booster='gbtree', colsample_bylevel=1,\n",
       "             colsample_bynode=1, colsample_bytree=1, gamma=0,\n",
       "             importance_type='gain', learning_rate=0.1, max_delta_step=0,\n",
       "             max_depth=3, min_child_weight=1, missing=None, n_estimators=100,\n",
       "             n_jobs=1, nthread=None, objective='reg:linear', random_state=0,\n",
       "             reg_alpha=0, reg_lambda=1, scale_pos_weight=1, seed=None,\n",
       "             silent=None, subsample=1, verbosity=1)"
      ]
     },
     "execution_count": 16,
     "metadata": {},
     "output_type": "execute_result"
    }
   ],
   "source": [
    "xgboost = XGBRegressor()\n",
    "xgboost.fit(X_train,y_train)"
   ]
  },
  {
   "cell_type": "code",
   "execution_count": 17,
   "metadata": {},
   "outputs": [],
   "source": [
    "y_pred_xgb = xgboost.predict(lebron_model_test2_drop)"
   ]
  },
  {
   "cell_type": "code",
   "execution_count": 18,
   "metadata": {},
   "outputs": [
    {
     "name": "stdout",
     "output_type": "stream",
     "text": [
      " RMSE = 6.233158243357091 \n",
      " r squared =  -0.07627306220743701 \n",
      " MAPE =  21.13758766584662\n"
     ]
    }
   ],
   "source": [
    "RMSE_xg = np.sqrt(mean_squared_error(y_actual,y_pred_xgb))\n",
    "r2_xg = r2_score(y_actual,y_pred_xgb)\n",
    "MAPE_xg = mean_absolute_percentage_error(y_actual,y_pred_xgb)\n",
    "print(' RMSE =', RMSE_xg,'\\n','r squared = ', r2_xg,'\\n','MAPE = ', MAPE_xg)"
   ]
  },
  {
   "cell_type": "markdown",
   "metadata": {},
   "source": [
    "#### Running the random forest regressor on Giannis' stats"
   ]
  },
  {
   "cell_type": "markdown",
   "metadata": {},
   "source": [
    "Now need to run the model on Giannis as the performance of the model will vary for each player. We will compare the performance of the Random Forest Regressor to the Linear Regression model on the same test and training set."
   ]
  },
  {
   "cell_type": "code",
   "execution_count": 19,
   "metadata": {},
   "outputs": [],
   "source": [
    "giannis_stats = final_boxscore.loc[final_boxscore['PLAYER_ID'] == 203507]\n",
    "giannis_stats.loc[giannis_stats['SEASON'] == 2019]\n",
    "giannis_train = giannis_stats.iloc[30:]\n",
    "giannis_test = giannis_stats.iloc[:30]\n",
    "giannis_train_drop = giannis_train.dropna()\n",
    "y_ga = giannis_train_drop['PTS']\n",
    "X_ga = giannis_train_drop[['PTSL5','PTSL3','MINL5','FGML5','FGAL5','FG_PCTL5','FG3ML5','FG3AL5','FG3_PCTL5','FTML5',\n",
    "                       'FTAL5','FT_PCTL5','STLL5','PLUS_MINUSL5','TOT_PTSL5','DAYSOFF','YEAR']]"
   ]
  },
  {
   "cell_type": "code",
   "execution_count": 20,
   "metadata": {},
   "outputs": [
    {
     "name": "stderr",
     "output_type": "stream",
     "text": [
      "C:\\Users\\michael.thabane\\AppData\\Local\\Continuum\\anaconda3\\lib\\site-packages\\sklearn\\ensemble\\forest.py:245: FutureWarning: The default value of n_estimators will change from 10 in version 0.20 to 100 in 0.22.\n",
      "  \"10 in version 0.20 to 100 in 0.22.\", FutureWarning)\n"
     ]
    }
   ],
   "source": [
    "randomforest_ga = RandomForestRegressor()\n",
    "randomforest_ga.fit(X_ga,y_ga)\n",
    "Y_actual_ga = giannis_test['PTS']\n",
    "giannis_model_test_drop = giannis_test.dropna()\n",
    "giannis_model_test_drop = giannis_model_test_drop[['PTSL5','PTSL3','MINL5','FGML5','FGAL5','FG_PCTL5','FG3ML5','FG3AL5',\n",
    "                                                   'FG3_PCTL5','FTML5','FTAL5','FT_PCTL5','STLL5','PLUS_MINUSL5',\n",
    "                                                   'TOT_PTSL5','DAYSOFF','YEAR']]\n",
    "Y_pred_ga = randomforest_ga.predict(giannis_model_test_drop)"
   ]
  },
  {
   "cell_type": "code",
   "execution_count": 21,
   "metadata": {},
   "outputs": [
    {
     "name": "stdout",
     "output_type": "stream",
     "text": [
      " RMSE = 8.342621490474881 \n",
      " r squared =  -0.3492891607789075 \n",
      " MAPE =  25.250721098678735\n"
     ]
    }
   ],
   "source": [
    "RMSE_ga = np.sqrt(mean_squared_error(Y_actual_ga,Y_pred_ga))\n",
    "r2_ga = r2_score(Y_actual_ga,Y_pred_ga)\n",
    "MAPE_ga = mean_absolute_percentage_error(Y_actual_ga,Y_pred_ga)\n",
    "print(' RMSE =', RMSE_ga,'\\n','r squared = ', r2_ga,'\\n','MAPE = ', MAPE_ga)"
   ]
  },
  {
   "cell_type": "code",
   "execution_count": 22,
   "metadata": {},
   "outputs": [
    {
     "name": "stderr",
     "output_type": "stream",
     "text": [
      "C:\\Users\\michael.thabane\\AppData\\Local\\Continuum\\anaconda3\\lib\\site-packages\\sklearn\\model_selection\\_split.py:1978: FutureWarning: The default value of cv will change from 3 to 5 in version 0.22. Specify it explicitly to silence this warning.\n",
      "  warnings.warn(CV_WARNING, FutureWarning)\n"
     ]
    },
    {
     "name": "stdout",
     "output_type": "stream",
     "text": [
      "Best n estimator:  100\n",
      "Best max depth:  5\n",
      "Best min sample split:  17\n",
      "Best min sample leaf:  3\n",
      "Best Score:  -0.49354827888438363\n"
     ]
    }
   ],
   "source": [
    "param_grid_RF_ga = {'n_estimators': np.arange(100,1000,100), 'max_depth': np.arange(1,20,4), \n",
    "                 'min_samples_split': np.arange(2,21,5), 'min_samples_leaf': np.arange(1,15,2)}\n",
    "RF_tune_ga = GridSearchCV(randomforest_ga,param_grid_RF_ga)\n",
    "RF_tune_ga.fit(X_ga,y_ga)\n",
    "print('Best n estimator: ', RF_tune_ga.best_params_['n_estimators'])\n",
    "print('Best max depth: ', RF_tune_ga.best_params_['max_depth'])\n",
    "print('Best min sample split: ', RF_tune_ga.best_params_['min_samples_split'])\n",
    "print('Best min sample leaf: ', RF_tune_ga.best_params_['min_samples_leaf'])\n",
    "print('Best Score: ', RF_tune_ga.best_score_)"
   ]
  },
  {
   "cell_type": "code",
   "execution_count": 23,
   "metadata": {},
   "outputs": [
    {
     "data": {
      "text/plain": [
       "RandomForestRegressor(bootstrap=True, criterion='mse', max_depth=5,\n",
       "                      max_features='auto', max_leaf_nodes=None,\n",
       "                      min_impurity_decrease=0.0, min_impurity_split=None,\n",
       "                      min_samples_leaf=3, min_samples_split=17,\n",
       "                      min_weight_fraction_leaf=0.0, n_estimators=100,\n",
       "                      n_jobs=None, oob_score=False, random_state=None,\n",
       "                      verbose=0, warm_start=False)"
      ]
     },
     "execution_count": 23,
     "metadata": {},
     "output_type": "execute_result"
    }
   ],
   "source": [
    "best_RF_ga = RandomForestRegressor(n_estimators=RF_tune_ga.best_params_['n_estimators'],\n",
    "                                   max_depth=RF_tune_ga.best_params_['max_depth'],\n",
    "                                   min_samples_split=RF_tune_ga.best_params_['min_samples_split'],\n",
    "                                   min_samples_leaf=RF_tune_ga.best_params_['min_samples_leaf'])\n",
    "best_RF_ga.fit(X_ga,y_ga)"
   ]
  },
  {
   "cell_type": "code",
   "execution_count": 24,
   "metadata": {},
   "outputs": [],
   "source": [
    "y_pred_best_ga = best_RF_ga.predict(lebron_model_test2_drop)"
   ]
  },
  {
   "cell_type": "code",
   "execution_count": 25,
   "metadata": {},
   "outputs": [
    {
     "name": "stdout",
     "output_type": "stream",
     "text": [
      " RMSE = 7.667378481162914 \n",
      " r squared =  -0.13970841582069826 \n",
      " MAPE =  25.208935493860736\n"
     ]
    }
   ],
   "source": [
    "RMSE_ga_1 = np.sqrt(mean_squared_error(Y_actual_ga,y_pred_best_ga))\n",
    "r2_ga_1 = r2_score(Y_actual_ga,y_pred_best_ga)\n",
    "MAPE_ga_1 = mean_absolute_percentage_error(Y_actual_ga,y_pred_best_ga)\n",
    "print(' RMSE =', RMSE_ga_1,'\\n','r squared = ', r2_ga_1,'\\n','MAPE = ', MAPE_ga_1)"
   ]
  },
  {
   "cell_type": "markdown",
   "metadata": {},
   "source": [
    "The parameter tuned Random Forest Regressor model on Giannis' data performs with a negative r-square value so the model performs worse than using the total points average as a predictor. When comparing this tuned model to the baseline model with the same training and test set (Giannis last 30 games of 2019) we notice that Random Forrest Regressor performs worse than the Linear Regession model for all three metrics (RMSE, r-squared, MAPE). Since this model is not a good predictor for Giannis it is fair to say that depending on the size of the dataset for each player the Random Forest Regressor will not perform as well as a Linear Regression model. Below we will show how poor the performance of the model is by looking at the actual vs predicted values."
   ]
  },
  {
   "cell_type": "code",
   "execution_count": 26,
   "metadata": {},
   "outputs": [
    {
     "data": {
      "image/png": "[encoded data removed]",
      "text/plain": [
       "<Figure size 432x288 with 1 Axes>"
      ]
     },
     "metadata": {
      "needs_background": "light"
     },
     "output_type": "display_data"
    }
   ],
   "source": [
    "plt.scatter(Y_actual_ga,y_pred_best_ga)\n",
    "plt.plot([y_actual.min(), y_actual.max()], [y_actual.min(), y_actual.max()], 'k--', lw=4)\n",
    "plt.xlabel('Actual')\n",
    "plt.ylabel('Predicted')\n",
    "plt.title(\"Giannis' last 30 games of 2019 season Predicted vs Actual\")\n",
    "plt.show()"
   ]
  },
  {
   "cell_type": "code",
   "execution_count": 27,
   "metadata": {},
   "outputs": [
    {
     "data": {
      "image/png": "[encoded data removed]",
      "text/plain": [
       "<Figure size 432x288 with 1 Axes>"
      ]
     },
     "metadata": {
      "needs_background": "light"
     },
     "output_type": "display_data"
    }
   ],
   "source": [
    "residuals = Y_actual_ga - y_pred_best_ga\n",
    "plt.title(\"Histogram of Residuals for Giannis' last 30 games of 2019 season\")\n",
    "plt.hist(residuals, bins=15)\n",
    "plt.show()"
   ]
  },
  {
   "cell_type": "markdown",
   "metadata": {},
   "source": [
    "There are multiple outliers which are outside of the range of 8-10 points and the residuals are clearly not normally distributed. Based on this we know there will be high variability on the models accuracy based on which players data it is using to train and test the either the Linear Regression or Random Forest model. "
   ]
  },
  {
   "cell_type": "code",
   "execution_count": null,
   "metadata": {},
   "outputs": [],
   "source": []
  }
 ],
 "metadata": {
  "kernelspec": {
   "display_name": "Python 3",
   "language": "python",
   "name": "python3"
  },
  "language_info": {
   "codemirror_mode": {
    "name": "ipython",
    "version": 3
   },
   "file_extension": ".py",
   "mimetype": "text/x-python",
   "name": "python",
   "nbconvert_exporter": "python",
   "pygments_lexer": "ipython3",
   "version": "3.7.4"
  }
 },
 "nbformat": 4,
 "nbformat_minor": 2
}
