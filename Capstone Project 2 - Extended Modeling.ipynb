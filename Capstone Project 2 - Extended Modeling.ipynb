{
 "cells": [
  {
   "cell_type": "markdown",
   "metadata": {},
   "source": [
    "# Extended modeling for NBA Dataset"
   ]
  },
  {
   "cell_type": "code",
   "execution_count": 1,
   "metadata": {},
   "outputs": [],
   "source": [
    "import pandas as pd \n",
    "import numpy as np\n",
    "import statsmodels.api as sm\n",
    "import matplotlib.pyplot as plt\n",
    "import seaborn as sns\n",
    "import statsmodels.api as sm\n",
    "from sklearn.linear_model import LinearRegression\n",
    "from scipy import stats\n",
    "from random import sample\n",
    "from sklearn.metrics import mean_squared_error\n",
    "from sklearn.metrics import r2_score\n",
    "games = pd.read_csv('C:/Users/michael.thabane/Documents/Springboard/Capstone2/nba-games/games.csv')\n",
    "games_details = pd.read_csv('C:/Users/michael.thabane/Documents/Springboard/Capstone2/nba-games/games_details.csv')\n",
    "players = pd.read_csv('C:/Users/michael.thabane/Documents/Springboard/Capstone2/nba-games/players.csv')\n",
    "standings = pd.read_csv('C:/Users/michael.thabane/Documents/Springboard/Capstone2/nba-games/ranking.csv')"
   ]
  },
  {
   "cell_type": "code",
   "execution_count": 2,
   "metadata": {},
   "outputs": [],
   "source": [
    "from sklearn.ensemble import RandomForestRegressor\n",
    "from xgboost import XGBClassifier\n",
    "from sklearn.model_selection import train_test_split\n",
    "from sklearn.model_selection import cross_val_score\n",
    "from sklearn.model_selection import GridSearchCV"
   ]
  },
  {
   "cell_type": "code",
   "execution_count": 3,
   "metadata": {},
   "outputs": [],
   "source": [
    "def mean_absolute_percentage_error(y_true, y_pred): \n",
    "    y_true, y_pred = np.array(y_true), np.array(y_pred)\n",
    "    return np.mean(np.abs((y_true - y_pred) / y_true)) * 100"
   ]
  },
  {
   "cell_type": "markdown",
   "metadata": {},
   "source": [
    "#### importing the data set from the data wrangling notebook"
   ]
  },
  {
   "cell_type": "code",
   "execution_count": 4,
   "metadata": {},
   "outputs": [],
   "source": [
    "final_boxscore = pd.read_csv('C:/Users/michael.thabane/Documents/Springboard/Capstone2/final_boxscore.csv')"
   ]
  },
  {
   "cell_type": "code",
   "execution_count": 5,
   "metadata": {},
   "outputs": [],
   "source": [
    "def mean_absolute_percentage_error(y_true, y_pred): \n",
    "    y_true, y_pred = np.array(y_true), np.array(y_pred)\n",
    "    return np.mean(np.abs((y_true - y_pred) / y_true)) * 100"
   ]
  },
  {
   "cell_type": "markdown",
   "metadata": {},
   "source": [
    "#### Isolating Lebron James career statistics"
   ]
  },
  {
   "cell_type": "code",
   "execution_count": 6,
   "metadata": {},
   "outputs": [],
   "source": [
    "lebron_stats = final_boxscore.loc[final_boxscore['PLAYER_ID'] == 2544]\n",
    "lebron_train2 = lebron_stats.iloc[91:]\n",
    "lebron_test2 = lebron_stats.iloc[61:91]\n",
    "lebron_train2_drop = lebron_train2.dropna()\n",
    "y_train = lebron_train2_drop['PTS']\n",
    "X_train = lebron_train2_drop[['PTSL5','PTSL3','MINL5','FGML5','FGAL5','FG_PCTL5','FG3ML5','FG3AL5','FG3_PCTL5','FTML5',\n",
    "                       'FTAL5','FT_PCTL5','STLL5','PLUS_MINUSL5','TOT_PTSL5','DAYSOFF','YEAR']]\n",
    "lebron_model_test2_drop = lebron_test2.dropna()\n",
    "lebron_model_test2_drop = lebron_model_test2_drop[['PTSL5','PTSL3','MINL5','FGML5','FGAL5','FG_PCTL5','FG3ML5','FG3AL5',\n",
    "                                                   'FG3_PCTL5','FTML5','FTAL5','FT_PCTL5','STLL5','PLUS_MINUSL5',\n",
    "                                                   'TOT_PTSL5','DAYSOFF','YEAR']]"
   ]
  },
  {
   "cell_type": "markdown",
   "metadata": {},
   "source": [
    "#### Fitting the model to the default parameter random forest regressor"
   ]
  },
  {
   "cell_type": "code",
   "execution_count": 7,
   "metadata": {},
   "outputs": [
    {
     "name": "stderr",
     "output_type": "stream",
     "text": [
      "C:\\Users\\michael.thabane\\AppData\\Local\\Continuum\\anaconda3\\lib\\site-packages\\sklearn\\ensemble\\forest.py:245: FutureWarning: The default value of n_estimators will change from 10 in version 0.20 to 100 in 0.22.\n",
      "  \"10 in version 0.20 to 100 in 0.22.\", FutureWarning)\n"
     ]
    },
    {
     "data": {
      "text/plain": [
       "RandomForestRegressor(bootstrap=True, criterion='mse', max_depth=None,\n",
       "                      max_features='auto', max_leaf_nodes=None,\n",
       "                      min_impurity_decrease=0.0, min_impurity_split=None,\n",
       "                      min_samples_leaf=1, min_samples_split=2,\n",
       "                      min_weight_fraction_leaf=0.0, n_estimators=10,\n",
       "                      n_jobs=None, oob_score=False, random_state=None,\n",
       "                      verbose=0, warm_start=False)"
      ]
     },
     "execution_count": 7,
     "metadata": {},
     "output_type": "execute_result"
    }
   ],
   "source": [
    "randomforest = RandomForestRegressor()\n",
    "randomforest.fit(X_train,y_train)"
   ]
  },
  {
   "cell_type": "code",
   "execution_count": 8,
   "metadata": {},
   "outputs": [],
   "source": [
    "act = lebron_test2.dropna()\n",
    "y_actual = act['PTS']\n",
    "y_pred = randomforest.predict(lebron_model_test2_drop)"
   ]
  },
  {
   "cell_type": "code",
   "execution_count": 9,
   "metadata": {},
   "outputs": [
    {
     "name": "stdout",
     "output_type": "stream",
     "text": [
      " RMSE = 6.553701244335143 \n",
      " r squared =  -0.18981501431253633 \n",
      " MAPE =  19.961677274960394\n"
     ]
    }
   ],
   "source": [
    "RMSE = np.sqrt(mean_squared_error(y_actual,y_pred))\n",
    "r2 = r2_score(y_actual,y_pred)\n",
    "MAPE = mean_absolute_percentage_error(y_actual,y_pred)\n",
    "print(' RMSE =', RMSE,'\\n','r squared = ', r2,'\\n','MAPE = ', MAPE)"
   ]
  },
  {
   "cell_type": "markdown",
   "metadata": {},
   "source": [
    "#### Parameter tuning the Random Forest Regressor for find the optimal parameters for the best performance"
   ]
  },
  {
   "cell_type": "code",
   "execution_count": 10,
   "metadata": {},
   "outputs": [
    {
     "name": "stderr",
     "output_type": "stream",
     "text": [
      "C:\\Users\\michael.thabane\\AppData\\Local\\Continuum\\anaconda3\\lib\\site-packages\\sklearn\\model_selection\\_split.py:1978: FutureWarning: The default value of cv will change from 3 to 5 in version 0.22. Specify it explicitly to silence this warning.\n",
      "  warnings.warn(CV_WARNING, FutureWarning)\n"
     ]
    },
    {
     "name": "stdout",
     "output_type": "stream",
     "text": [
      "Best n estimator:  100\n",
      "Best max depth:  5\n",
      "Best min sample split:  7\n",
      "Best min sample leaf:  9\n",
      "Best Score:  0.010775602564707812\n"
     ]
    }
   ],
   "source": [
    "param_grid_RF = {'n_estimators': np.arange(100,1000,100), 'max_depth': np.arange(1,20,4), \n",
    "                 'min_samples_split': np.arange(2,21,5), 'min_samples_leaf': np.arange(1,15,2)}\n",
    "RF_tune = GridSearchCV(randomforest,param_grid_RF)\n",
    "RF_tune.fit(X_train,y_train)\n",
    "print('Best n estimator: ', RF_tune.best_params_['n_estimators'])\n",
    "print('Best max depth: ', RF_tune.best_params_['max_depth'])\n",
    "print('Best min sample split: ', RF_tune.best_params_['min_samples_split'])\n",
    "print('Best min sample leaf: ', RF_tune.best_params_['min_samples_leaf'])\n",
    "print('Best Score: ', RF_tune.best_score_)"
   ]
  },
  {
   "cell_type": "code",
   "execution_count": 13,
   "metadata": {},
   "outputs": [
    {
     "data": {
      "text/plain": [
       "RandomForestRegressor(bootstrap=True, criterion='mse', max_depth=5,\n",
       "                      max_features='auto', max_leaf_nodes=None,\n",
       "                      min_impurity_decrease=0.0, min_impurity_split=None,\n",
       "                      min_samples_leaf=9, min_samples_split=7,\n",
       "                      min_weight_fraction_leaf=0.0, n_estimators=100,\n",
       "                      n_jobs=None, oob_score=False, random_state=None,\n",
       "                      verbose=0, warm_start=False)"
      ]
     },
     "execution_count": 13,
     "metadata": {},
     "output_type": "execute_result"
    }
   ],
   "source": [
    "best_RF = RandomForestRegressor(n_estimators=100,max_depth=5,min_samples_split=7,min_samples_leaf=9)\n",
    "best_RF.fit(X_train,y_train)"
   ]
  },
  {
   "cell_type": "code",
   "execution_count": 14,
   "metadata": {},
   "outputs": [],
   "source": [
    "y_pred_best = best_RF.predict(lebron_model_test2_drop)"
   ]
  },
  {
   "cell_type": "code",
   "execution_count": 16,
   "metadata": {},
   "outputs": [
    {
     "name": "stdout",
     "output_type": "stream",
     "text": [
      " RMSE = 5.979204377507962 \n",
      " r squared =  0.009640293969979452 \n",
      " MAPE =  19.385443394148492\n"
     ]
    }
   ],
   "source": [
    "RMSE_1 = np.sqrt(mean_squared_error(y_actual,y_pred_best))\n",
    "r2_1 = r2_score(y_actual,y_pred_best)\n",
    "MAPE_1 = mean_absolute_percentage_error(y_actual,y_pred_best)\n",
    "print(' RMSE =', RMSE_1,'\\n','r squared = ', r2_1,'\\n','MAPE = ', MAPE_1)"
   ]
  },
  {
   "cell_type": "code",
   "execution_count": 20,
   "metadata": {},
   "outputs": [
    {
     "data": {
      "image/png": "[encoded data removed]",
      "text/plain": [
       "<Figure size 432x288 with 1 Axes>"
      ]
     },
     "metadata": {
      "needs_background": "light"
     },
     "output_type": "display_data"
    }
   ],
   "source": [
    "plt.scatter(y_actual,y_pred_best)\n",
    "plt.plot([y_actual.min(), y_actual.max()], [y_actual.min(), y_actual.max()], 'k--', lw=4)\n",
    "plt.xlabel('Actual')\n",
    "plt.ylabel('Predicted')\n",
    "plt.title('Lebron James last 30 games of 2018 season Predicted vs Actual')\n",
    "plt.show()"
   ]
  },
  {
   "cell_type": "code",
   "execution_count": null,
   "metadata": {},
   "outputs": [],
   "source": [
    "residuals = y_actual - y_pred_best\n"
   ]
  }
 ],
 "metadata": {
  "kernelspec": {
   "display_name": "Python 3",
   "language": "python",
   "name": "python3"
  },
  "language_info": {
   "codemirror_mode": {
    "name": "ipython",
    "version": 3
   },
   "file_extension": ".py",
   "mimetype": "text/x-python",
   "name": "python",
   "nbconvert_exporter": "python",
   "pygments_lexer": "ipython3",
   "version": "3.7.4"
  }
 },
 "nbformat": 4,
 "nbformat_minor": 2
}
